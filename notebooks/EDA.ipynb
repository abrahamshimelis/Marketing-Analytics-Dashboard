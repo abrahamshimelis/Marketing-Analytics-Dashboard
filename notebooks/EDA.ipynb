{
 "cells": [
  {
   "cell_type": "markdown",
   "metadata": {},
   "source": [
    "## Exploratory Data Analysis "
   ]
  },
  {
   "cell_type": "markdown",
   "metadata": {},
   "source": [
    "Importing Libraries "
   ]
  },
  {
   "cell_type": "code",
   "execution_count": 16,
   "metadata": {},
   "outputs": [],
   "source": [
    "import sys\n",
    "sys.path.append('../')\n",
    "import pandas as pd\n",
    "import numpy as np\n",
    "from src.utils import check_missing_data\n",
    "from scripts.db_utils import connect, sql_to_dataframe"
   ]
  },
  {
   "cell_type": "markdown",
   "metadata": {},
   "source": [
    "Load data"
   ]
  },
  {
   "cell_type": "code",
   "execution_count": 17,
   "metadata": {},
   "outputs": [
    {
     "name": "stdout",
     "output_type": "stream",
     "text": [
      "Connecting..\n",
      "All good, Connection successful!\n"
     ]
    }
   ],
   "source": [
    "#opening the connection\n",
    "conn = connect()\n",
    "\n",
    "# load telegram post data for banks\n",
    "query = \"\"\" SELECT * FROM public.telegram_post_performance  \"\"\"\n",
    "df_posts = sql_to_dataframe(conn, query)\n",
    "\n",
    "# load BOA App review data \n",
    "query = \"\"\" SELECT * FROM public.google_play_reviews  \"\"\"\n",
    "df_reviews = sql_to_dataframe(conn, query)\n",
    "\n",
    "# load BOA telegram channnel subscribers data\n",
    "query = \"\"\" SELECT * FROM public.telegram_subscription_growth  \"\"\"\n",
    "df_subscribers = sql_to_dataframe(conn, query)\n",
    "\n",
    "#closing the connection\n",
    "conn.close()"
   ]
  },
  {
   "cell_type": "code",
   "execution_count": 18,
   "metadata": {},
   "outputs": [
    {
     "data": {
      "text/html": [
       "<div>\n",
       "<style scoped>\n",
       "    .dataframe tbody tr th:only-of-type {\n",
       "        vertical-align: middle;\n",
       "    }\n",
       "\n",
       "    .dataframe tbody tr th {\n",
       "        vertical-align: top;\n",
       "    }\n",
       "\n",
       "    .dataframe thead th {\n",
       "        text-align: right;\n",
       "    }\n",
       "</style>\n",
       "<table border=\"1\" class=\"dataframe\">\n",
       "  <thead>\n",
       "    <tr style=\"text-align: right;\">\n",
       "      <th></th>\n",
       "      <th>id</th>\n",
       "      <th>post_link</th>\n",
       "      <th>date</th>\n",
       "      <th>views</th>\n",
       "      <th>post_time</th>\n",
       "      <th>bank</th>\n",
       "      <th>time_of_day</th>\n",
       "    </tr>\n",
       "  </thead>\n",
       "  <tbody>\n",
       "    <tr>\n",
       "      <th>0</th>\n",
       "      <td>430</td>\n",
       "      <td>https://t.me/tikvahethiopia/70382</td>\n",
       "      <td>2022-05-19 13:47:14</td>\n",
       "      <td>310300</td>\n",
       "      <td>13:47:14</td>\n",
       "      <td>#CBE</td>\n",
       "      <td>afternoon</td>\n",
       "    </tr>\n",
       "    <tr>\n",
       "      <th>1</th>\n",
       "      <td>431</td>\n",
       "      <td>https://t.me/tikvahethiopia/70383</td>\n",
       "      <td>2022-05-19 13:47:14</td>\n",
       "      <td>310300</td>\n",
       "      <td>13:47:14</td>\n",
       "      <td>#CBE</td>\n",
       "      <td>afternoon</td>\n",
       "    </tr>\n",
       "    <tr>\n",
       "      <th>2</th>\n",
       "      <td>432</td>\n",
       "      <td>https://t.me/tikvahethiopia/73378</td>\n",
       "      <td>2022-08-30 11:13:05</td>\n",
       "      <td>267400</td>\n",
       "      <td>11:13:05</td>\n",
       "      <td>#CBE</td>\n",
       "      <td>morning</td>\n",
       "    </tr>\n",
       "    <tr>\n",
       "      <th>3</th>\n",
       "      <td>433</td>\n",
       "      <td>https://t.me/tikvahethiopia/73379</td>\n",
       "      <td>2022-08-30 11:13:05</td>\n",
       "      <td>267400</td>\n",
       "      <td>11:13:05</td>\n",
       "      <td>#CBE</td>\n",
       "      <td>morning</td>\n",
       "    </tr>\n",
       "    <tr>\n",
       "      <th>4</th>\n",
       "      <td>434</td>\n",
       "      <td>https://t.me/tikvahethiopia/74556</td>\n",
       "      <td>2022-11-03 16:07:35</td>\n",
       "      <td>347100</td>\n",
       "      <td>16:07:35</td>\n",
       "      <td>#CBE</td>\n",
       "      <td>afternoon</td>\n",
       "    </tr>\n",
       "  </tbody>\n",
       "</table>\n",
       "</div>"
      ],
      "text/plain": [
       "    id                          post_link                date   views  \\\n",
       "0  430  https://t.me/tikvahethiopia/70382 2022-05-19 13:47:14  310300   \n",
       "1  431  https://t.me/tikvahethiopia/70383 2022-05-19 13:47:14  310300   \n",
       "2  432  https://t.me/tikvahethiopia/73378 2022-08-30 11:13:05  267400   \n",
       "3  433  https://t.me/tikvahethiopia/73379 2022-08-30 11:13:05  267400   \n",
       "4  434  https://t.me/tikvahethiopia/74556 2022-11-03 16:07:35  347100   \n",
       "\n",
       "  post_time  bank time_of_day  \n",
       "0  13:47:14  #CBE   afternoon  \n",
       "1  13:47:14  #CBE   afternoon  \n",
       "2  11:13:05  #CBE     morning  \n",
       "3  11:13:05  #CBE     morning  \n",
       "4  16:07:35  #CBE   afternoon  "
      ]
     },
     "execution_count": 18,
     "metadata": {},
     "output_type": "execute_result"
    }
   ],
   "source": [
    "df_posts.head()"
   ]
  },
  {
   "cell_type": "code",
   "execution_count": 19,
   "metadata": {},
   "outputs": [
    {
     "data": {
      "text/html": [
       "<div>\n",
       "<style scoped>\n",
       "    .dataframe tbody tr th:only-of-type {\n",
       "        vertical-align: middle;\n",
       "    }\n",
       "\n",
       "    .dataframe tbody tr th {\n",
       "        vertical-align: top;\n",
       "    }\n",
       "\n",
       "    .dataframe thead th {\n",
       "        text-align: right;\n",
       "    }\n",
       "</style>\n",
       "<table border=\"1\" class=\"dataframe\">\n",
       "  <thead>\n",
       "    <tr style=\"text-align: right;\">\n",
       "      <th></th>\n",
       "      <th>id</th>\n",
       "      <th>review_id</th>\n",
       "      <th>username</th>\n",
       "      <th>user_image</th>\n",
       "      <th>likes</th>\n",
       "      <th>review_created_version</th>\n",
       "      <th>created_at</th>\n",
       "      <th>reply_content</th>\n",
       "      <th>replied_at</th>\n",
       "      <th>app_version</th>\n",
       "      <th>score</th>\n",
       "      <th>comments</th>\n",
       "      <th>keywords</th>\n",
       "      <th>lda_category</th>\n",
       "      <th>sentiment</th>\n",
       "      <th>insight</th>\n",
       "    </tr>\n",
       "  </thead>\n",
       "  <tbody>\n",
       "    <tr>\n",
       "      <th>0</th>\n",
       "      <td>1</td>\n",
       "      <td>738b6d3a-2d7f-4a82-bfe2-dcf32591f944</td>\n",
       "      <td>NAHOM NIGUSSIE</td>\n",
       "      <td>https://play-lh.googleusercontent.com/a-/ALV-U...</td>\n",
       "      <td>1</td>\n",
       "      <td>None</td>\n",
       "      <td>2024-05-21 18:38:28</td>\n",
       "      <td>None</td>\n",
       "      <td>None</td>\n",
       "      <td>None</td>\n",
       "      <td>2</td>\n",
       "      <td>Slow and buggy crashed all the time need a lot...</td>\n",
       "      <td>None</td>\n",
       "      <td>None</td>\n",
       "      <td>None</td>\n",
       "      <td>None</td>\n",
       "    </tr>\n",
       "    <tr>\n",
       "      <th>1</th>\n",
       "      <td>2</td>\n",
       "      <td>e20abe49-8fe7-42fe-af3a-91399875b21a</td>\n",
       "      <td>Abbatu Ermias</td>\n",
       "      <td>https://play-lh.googleusercontent.com/a/ACg8oc...</td>\n",
       "      <td>0</td>\n",
       "      <td>24.04.23</td>\n",
       "      <td>2024-05-21 05:06:05</td>\n",
       "      <td>None</td>\n",
       "      <td>None</td>\n",
       "      <td>24.04.23</td>\n",
       "      <td>5</td>\n",
       "      <td>Awe ሃረፍ nawe</td>\n",
       "      <td>None</td>\n",
       "      <td>None</td>\n",
       "      <td>None</td>\n",
       "      <td>None</td>\n",
       "    </tr>\n",
       "    <tr>\n",
       "      <th>2</th>\n",
       "      <td>3</td>\n",
       "      <td>55c833c8-a942-47bb-aaaa-e022f39e28af</td>\n",
       "      <td>Habtsh Darge</td>\n",
       "      <td>https://play-lh.googleusercontent.com/a/ACg8oc...</td>\n",
       "      <td>0</td>\n",
       "      <td>None</td>\n",
       "      <td>2024-05-20 08:07:49</td>\n",
       "      <td>None</td>\n",
       "      <td>None</td>\n",
       "      <td>None</td>\n",
       "      <td>1</td>\n",
       "      <td>በጣም ቀፋፊ አፕ ነው ። ሰርቶ አያውቅም ። በጣም ብዙ ችግር አለበት ከአ...</td>\n",
       "      <td>None</td>\n",
       "      <td>None</td>\n",
       "      <td>None</td>\n",
       "      <td>None</td>\n",
       "    </tr>\n",
       "    <tr>\n",
       "      <th>3</th>\n",
       "      <td>4</td>\n",
       "      <td>d62d6d95-2900-4038-aa26-c9b42835c971</td>\n",
       "      <td>Usman</td>\n",
       "      <td>https://play-lh.googleusercontent.com/a/ACg8oc...</td>\n",
       "      <td>0</td>\n",
       "      <td>None</td>\n",
       "      <td>2024-05-19 16:27:13</td>\n",
       "      <td>None</td>\n",
       "      <td>None</td>\n",
       "      <td>None</td>\n",
       "      <td>1</td>\n",
       "      <td>This application is very bad . Please modify t...</td>\n",
       "      <td>None</td>\n",
       "      <td>None</td>\n",
       "      <td>None</td>\n",
       "      <td>None</td>\n",
       "    </tr>\n",
       "    <tr>\n",
       "      <th>4</th>\n",
       "      <td>5</td>\n",
       "      <td>20c4de51-f5cd-41f3-b21a-efdf8cb4463e</td>\n",
       "      <td>Eskender Million</td>\n",
       "      <td>https://play-lh.googleusercontent.com/a-/ALV-U...</td>\n",
       "      <td>1</td>\n",
       "      <td>24.04.23</td>\n",
       "      <td>2024-05-17 20:37:40</td>\n",
       "      <td>None</td>\n",
       "      <td>None</td>\n",
       "      <td>24.04.23</td>\n",
       "      <td>1</td>\n",
       "      <td>It has a very complex, inconvenient to use, an...</td>\n",
       "      <td>None</td>\n",
       "      <td>None</td>\n",
       "      <td>None</td>\n",
       "      <td>None</td>\n",
       "    </tr>\n",
       "  </tbody>\n",
       "</table>\n",
       "</div>"
      ],
      "text/plain": [
       "   id                             review_id          username  \\\n",
       "0   1  738b6d3a-2d7f-4a82-bfe2-dcf32591f944    NAHOM NIGUSSIE   \n",
       "1   2  e20abe49-8fe7-42fe-af3a-91399875b21a     Abbatu Ermias   \n",
       "2   3  55c833c8-a942-47bb-aaaa-e022f39e28af      Habtsh Darge   \n",
       "3   4  d62d6d95-2900-4038-aa26-c9b42835c971             Usman   \n",
       "4   5  20c4de51-f5cd-41f3-b21a-efdf8cb4463e  Eskender Million   \n",
       "\n",
       "                                          user_image  likes  \\\n",
       "0  https://play-lh.googleusercontent.com/a-/ALV-U...      1   \n",
       "1  https://play-lh.googleusercontent.com/a/ACg8oc...      0   \n",
       "2  https://play-lh.googleusercontent.com/a/ACg8oc...      0   \n",
       "3  https://play-lh.googleusercontent.com/a/ACg8oc...      0   \n",
       "4  https://play-lh.googleusercontent.com/a-/ALV-U...      1   \n",
       "\n",
       "  review_created_version          created_at reply_content replied_at  \\\n",
       "0                   None 2024-05-21 18:38:28          None       None   \n",
       "1               24.04.23 2024-05-21 05:06:05          None       None   \n",
       "2                   None 2024-05-20 08:07:49          None       None   \n",
       "3                   None 2024-05-19 16:27:13          None       None   \n",
       "4               24.04.23 2024-05-17 20:37:40          None       None   \n",
       "\n",
       "  app_version  score                                           comments  \\\n",
       "0        None      2  Slow and buggy crashed all the time need a lot...   \n",
       "1    24.04.23      5                                       Awe ሃረፍ nawe   \n",
       "2        None      1  በጣም ቀፋፊ አፕ ነው ። ሰርቶ አያውቅም ። በጣም ብዙ ችግር አለበት ከአ...   \n",
       "3        None      1  This application is very bad . Please modify t...   \n",
       "4    24.04.23      1  It has a very complex, inconvenient to use, an...   \n",
       "\n",
       "  keywords lda_category sentiment insight  \n",
       "0     None         None      None    None  \n",
       "1     None         None      None    None  \n",
       "2     None         None      None    None  \n",
       "3     None         None      None    None  \n",
       "4     None         None      None    None  "
      ]
     },
     "execution_count": 19,
     "metadata": {},
     "output_type": "execute_result"
    }
   ],
   "source": [
    "df_reviews.head()"
   ]
  },
  {
   "cell_type": "code",
   "execution_count": 20,
   "metadata": {},
   "outputs": [
    {
     "data": {
      "text/html": [
       "<div>\n",
       "<style scoped>\n",
       "    .dataframe tbody tr th:only-of-type {\n",
       "        vertical-align: middle;\n",
       "    }\n",
       "\n",
       "    .dataframe tbody tr th {\n",
       "        vertical-align: top;\n",
       "    }\n",
       "\n",
       "    .dataframe thead th {\n",
       "        text-align: right;\n",
       "    }\n",
       "</style>\n",
       "<table border=\"1\" class=\"dataframe\">\n",
       "  <thead>\n",
       "    <tr style=\"text-align: right;\">\n",
       "      <th></th>\n",
       "      <th>id</th>\n",
       "      <th>channel_id</th>\n",
       "      <th>date</th>\n",
       "      <th>subscriber_count</th>\n",
       "    </tr>\n",
       "  </thead>\n",
       "  <tbody>\n",
       "    <tr>\n",
       "      <th>0</th>\n",
       "      <td>1</td>\n",
       "      <td>None</td>\n",
       "      <td>2024-05-24</td>\n",
       "      <td>-1</td>\n",
       "    </tr>\n",
       "    <tr>\n",
       "      <th>1</th>\n",
       "      <td>2</td>\n",
       "      <td>None</td>\n",
       "      <td>2024-05-23</td>\n",
       "      <td>24</td>\n",
       "    </tr>\n",
       "    <tr>\n",
       "      <th>2</th>\n",
       "      <td>3</td>\n",
       "      <td>None</td>\n",
       "      <td>2024-05-22</td>\n",
       "      <td>-104</td>\n",
       "    </tr>\n",
       "    <tr>\n",
       "      <th>3</th>\n",
       "      <td>4</td>\n",
       "      <td>None</td>\n",
       "      <td>2024-05-21</td>\n",
       "      <td>-10</td>\n",
       "    </tr>\n",
       "    <tr>\n",
       "      <th>4</th>\n",
       "      <td>5</td>\n",
       "      <td>None</td>\n",
       "      <td>2024-05-20</td>\n",
       "      <td>104</td>\n",
       "    </tr>\n",
       "    <tr>\n",
       "      <th>...</th>\n",
       "      <td>...</td>\n",
       "      <td>...</td>\n",
       "      <td>...</td>\n",
       "      <td>...</td>\n",
       "    </tr>\n",
       "    <tr>\n",
       "      <th>140</th>\n",
       "      <td>141</td>\n",
       "      <td>None</td>\n",
       "      <td>2024-05-01</td>\n",
       "      <td>-150</td>\n",
       "    </tr>\n",
       "    <tr>\n",
       "      <th>141</th>\n",
       "      <td>142</td>\n",
       "      <td>None</td>\n",
       "      <td>2024-04-01</td>\n",
       "      <td>-24</td>\n",
       "    </tr>\n",
       "    <tr>\n",
       "      <th>142</th>\n",
       "      <td>143</td>\n",
       "      <td>None</td>\n",
       "      <td>2024-03-01</td>\n",
       "      <td>13</td>\n",
       "    </tr>\n",
       "    <tr>\n",
       "      <th>143</th>\n",
       "      <td>144</td>\n",
       "      <td>None</td>\n",
       "      <td>2024-02-01</td>\n",
       "      <td>584</td>\n",
       "    </tr>\n",
       "    <tr>\n",
       "      <th>144</th>\n",
       "      <td>145</td>\n",
       "      <td>None</td>\n",
       "      <td>2024-01-01</td>\n",
       "      <td>-42</td>\n",
       "    </tr>\n",
       "  </tbody>\n",
       "</table>\n",
       "<p>145 rows × 4 columns</p>\n",
       "</div>"
      ],
      "text/plain": [
       "      id channel_id       date  subscriber_count\n",
       "0      1       None 2024-05-24                -1\n",
       "1      2       None 2024-05-23                24\n",
       "2      3       None 2024-05-22              -104\n",
       "3      4       None 2024-05-21               -10\n",
       "4      5       None 2024-05-20               104\n",
       "..   ...        ...        ...               ...\n",
       "140  141       None 2024-05-01              -150\n",
       "141  142       None 2024-04-01               -24\n",
       "142  143       None 2024-03-01                13\n",
       "143  144       None 2024-02-01               584\n",
       "144  145       None 2024-01-01               -42\n",
       "\n",
       "[145 rows x 4 columns]"
      ]
     },
     "execution_count": 20,
     "metadata": {},
     "output_type": "execute_result"
    }
   ],
   "source": [
    "df_subscribers"
   ]
  },
  {
   "cell_type": "markdown",
   "metadata": {},
   "source": [
    "Data Quality Assessment"
   ]
  },
  {
   "cell_type": "code",
   "execution_count": 23,
   "metadata": {},
   "outputs": [
    {
     "name": "stdout",
     "output_type": "stream",
     "text": [
      "   Column Name  Missing Values  Percentage Missing\n",
      "2         date               1            0.549451\n",
      "4    post_time               1            0.549451\n",
      "6  time_of_day               1            0.549451\n"
     ]
    }
   ],
   "source": [
    "# checking for missing values\n",
    "missing_data_df_post = check_missing_data(df_posts)\n",
    "print(missing_data_df_post)"
   ]
  },
  {
   "cell_type": "code",
   "execution_count": 24,
   "metadata": {},
   "outputs": [
    {
     "name": "stdout",
     "output_type": "stream",
     "text": [
      "               Column Name  Missing Values  Percentage Missing\n",
      "5   review_created_version              87                29.0\n",
      "7            reply_content             300               100.0\n",
      "8               replied_at             300               100.0\n",
      "9              app_version              87                29.0\n",
      "12                keywords             300               100.0\n",
      "13            lda_category             300               100.0\n",
      "14               sentiment             300               100.0\n",
      "15                 insight             300               100.0\n"
     ]
    }
   ],
   "source": [
    "# checking for missing values\n",
    "missing_data_df_reveiws = check_missing_data(df_reviews)\n",
    "print(missing_data_df_reveiws)"
   ]
  },
  {
   "cell_type": "code",
   "execution_count": 25,
   "metadata": {},
   "outputs": [
    {
     "name": "stdout",
     "output_type": "stream",
     "text": [
      "  Column Name  Missing Values  Percentage Missing\n",
      "1  channel_id             145               100.0\n"
     ]
    }
   ],
   "source": [
    "# checking for missing values\n",
    "missing_data_df_subscribers = check_missing_data(df_subscribers)\n",
    "print(missing_data_df_subscribers)"
   ]
  },
  {
   "cell_type": "markdown",
   "metadata": {},
   "source": [
    "Data cleaning"
   ]
  },
  {
   "cell_type": "code",
   "execution_count": 26,
   "metadata": {},
   "outputs": [],
   "source": [
    "df_subscribers.drop('channel_id', axis=1, inplace=True)"
   ]
  },
  {
   "cell_type": "code",
   "execution_count": 27,
   "metadata": {},
   "outputs": [
    {
     "name": "stdout",
     "output_type": "stream",
     "text": [
      "Success: No missing values.\n"
     ]
    }
   ],
   "source": [
    "# checking for missing values\n",
    "missing_data_df_subscribers = check_missing_data(df_subscribers)\n",
    "print(missing_data_df_subscribers)"
   ]
  },
  {
   "cell_type": "code",
   "execution_count": 28,
   "metadata": {},
   "outputs": [],
   "source": [
    "df_posts.dropna(subset=['date', 'post_time', 'time_of_day'], inplace=True)"
   ]
  },
  {
   "cell_type": "code",
   "execution_count": 29,
   "metadata": {},
   "outputs": [
    {
     "name": "stdout",
     "output_type": "stream",
     "text": [
      "Success: No missing values.\n"
     ]
    }
   ],
   "source": [
    "# checking for missing values\n",
    "missing_data_df_post = check_missing_data(df_posts)\n",
    "print(missing_data_df_post)"
   ]
  },
  {
   "cell_type": "code",
   "execution_count": 32,
   "metadata": {},
   "outputs": [],
   "source": [
    "df_reviews['review_created_version'] = df_reviews['review_created_version'].ffill()\n",
    "df_reviews['app_version'] = df_reviews['app_version'].ffill()"
   ]
  },
  {
   "cell_type": "code",
   "execution_count": 33,
   "metadata": {},
   "outputs": [
    {
     "name": "stdout",
     "output_type": "stream",
     "text": [
      "      Column Name  Missing Values  Percentage Missing\n",
      "7   reply_content             300               100.0\n",
      "8      replied_at             300               100.0\n",
      "12       keywords             300               100.0\n",
      "13   lda_category             300               100.0\n",
      "14      sentiment             300               100.0\n",
      "15        insight             300               100.0\n"
     ]
    }
   ],
   "source": [
    "# checking for missing values\n",
    "missing_data_df_reveiws = check_missing_data(df_reviews)\n",
    "print(missing_data_df_reveiws)"
   ]
  }
 ],
 "metadata": {
  "kernelspec": {
   "display_name": "venv",
   "language": "python",
   "name": "python3"
  },
  "language_info": {
   "codemirror_mode": {
    "name": "ipython",
    "version": 3
   },
   "file_extension": ".py",
   "mimetype": "text/x-python",
   "name": "python",
   "nbconvert_exporter": "python",
   "pygments_lexer": "ipython3",
   "version": "3.12.3"
  }
 },
 "nbformat": 4,
 "nbformat_minor": 2
}
