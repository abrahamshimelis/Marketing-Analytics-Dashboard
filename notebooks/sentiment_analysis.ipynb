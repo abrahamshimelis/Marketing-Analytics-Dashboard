{
 "cells": [
  {
   "cell_type": "markdown",
   "metadata": {},
   "source": [
    "## App review sentiment analysis"
   ]
  },
  {
   "cell_type": "markdown",
   "metadata": {},
   "source": [
    "#### Importing Libraries"
   ]
  },
  {
   "cell_type": "code",
   "execution_count": 25,
   "metadata": {},
   "outputs": [],
   "source": [
    "import sys\n",
    "sys.path.append('../')\n",
    "import pandas as pd\n",
    "import numpy as np\n",
    "import nltk\n",
    "from nltk.corpus import stopwords\n",
    "from nltk.stem.wordnet import WordNetLemmatizer\n",
    "from sklearn.feature_extraction.text import CountVectorizer\n",
    "from sklearn.decomposition import LatentDirichletAllocation\n",
    "from textblob import TextBlob\n",
    "import psycopg2\n",
    "from psycopg2 import sql\n",
    "from src.utils import check_missing_data\n",
    "from scripts.db_utils import connect, sql_to_dataframe"
   ]
  },
  {
   "cell_type": "markdown",
   "metadata": {},
   "source": [
    "##### Download datasets for nltk"
   ]
  },
  {
   "cell_type": "code",
   "execution_count": 14,
   "metadata": {},
   "outputs": [
    {
     "name": "stderr",
     "output_type": "stream",
     "text": [
      "[nltk_data] Downloading package punkt to /home/vagrant/nltk_data...\n",
      "[nltk_data]   Package punkt is already up-to-date!\n",
      "[nltk_data] Downloading package stopwords to\n",
      "[nltk_data]     /home/vagrant/nltk_data...\n",
      "[nltk_data]   Package stopwords is already up-to-date!\n",
      "[nltk_data] Downloading package averaged_perceptron_tagger to\n",
      "[nltk_data]     /home/vagrant/nltk_data...\n",
      "[nltk_data]   Package averaged_perceptron_tagger is already up-to-\n",
      "[nltk_data]       date!\n",
      "[nltk_data] Downloading package maxent_ne_chunker to\n",
      "[nltk_data]     /home/vagrant/nltk_data...\n",
      "[nltk_data]   Package maxent_ne_chunker is already up-to-date!\n",
      "[nltk_data] Downloading package words to /home/vagrant/nltk_data...\n",
      "[nltk_data]   Package words is already up-to-date!\n",
      "[nltk_data] Downloading package wordnet to /home/vagrant/nltk_data...\n",
      "[nltk_data]   Package wordnet is already up-to-date!\n",
      "[nltk_data] Downloading package brown to /home/vagrant/nltk_data...\n",
      "[nltk_data]   Package brown is already up-to-date!\n"
     ]
    },
    {
     "data": {
      "text/plain": [
       "True"
      ]
     },
     "execution_count": 14,
     "metadata": {},
     "output_type": "execute_result"
    }
   ],
   "source": [
    "nltk.download('punkt')  # Download the tokenization data\n",
    "nltk.download('stopwords')  # Download the stopwords data\n",
    "nltk.download('averaged_perceptron_tagger')  # Download the part-of-speech tagging data\n",
    "nltk.download('maxent_ne_chunker')  # Download the named entity recognition data\n",
    "nltk.download('words')  # Download the words corpus\n",
    "nltk.download('wordnet')\n",
    "nltk.download('brown')"
   ]
  },
  {
   "cell_type": "markdown",
   "metadata": {},
   "source": [
    "#### Load data"
   ]
  },
  {
   "cell_type": "code",
   "execution_count": 15,
   "metadata": {},
   "outputs": [
    {
     "name": "stdout",
     "output_type": "stream",
     "text": [
      "Connecting..\n",
      "All good, Connection successful!\n"
     ]
    }
   ],
   "source": [
    "#opening the connection\n",
    "conn = connect()\n",
    "\n",
    "# load BOA App review data \n",
    "query = \"\"\" SELECT * FROM public.google_play_reviews  \"\"\"\n",
    "df_reviews = sql_to_dataframe(conn, query)\n",
    "\n",
    "#closing the connection\n",
    "conn.close()"
   ]
  },
  {
   "cell_type": "markdown",
   "metadata": {},
   "source": [
    "#### Data Cleaning"
   ]
  },
  {
   "cell_type": "code",
   "execution_count": 16,
   "metadata": {},
   "outputs": [
    {
     "name": "stdout",
     "output_type": "stream",
     "text": [
      "               Column Name  Missing Values  Percentage Missing\n",
      "5   review_created_version              87                29.0\n",
      "7            reply_content             300               100.0\n",
      "8               replied_at             300               100.0\n",
      "9              app_version              87                29.0\n",
      "12               sentiment             300               100.0\n"
     ]
    }
   ],
   "source": [
    "# checking for missing values\n",
    "missing_data_df_reveiws = check_missing_data(df_reviews)\n",
    "print(missing_data_df_reveiws)"
   ]
  },
  {
   "cell_type": "code",
   "execution_count": 17,
   "metadata": {},
   "outputs": [],
   "source": [
    "# Handle missing values \n",
    "df_reviews['review_created_version'] = df_reviews['review_created_version'].ffill()\n",
    "df_reviews['app_version'] = df_reviews['app_version'].ffill()"
   ]
  },
  {
   "cell_type": "code",
   "execution_count": 18,
   "metadata": {},
   "outputs": [
    {
     "name": "stdout",
     "output_type": "stream",
     "text": [
      "               Column Name  Missing Values  Percentage Missing\n",
      "5   review_created_version               1            0.333333\n",
      "7            reply_content             300          100.000000\n",
      "8               replied_at             300          100.000000\n",
      "9              app_version               1            0.333333\n",
      "12               sentiment             300          100.000000\n"
     ]
    }
   ],
   "source": [
    "# checking for missing values\n",
    "missing_data_df_reveiws = check_missing_data(df_reviews)\n",
    "print(missing_data_df_reveiws)"
   ]
  },
  {
   "cell_type": "code",
   "execution_count": 19,
   "metadata": {},
   "outputs": [],
   "source": [
    "df_reviews.dropna(subset=['review_created_version', 'app_version'], inplace=True)"
   ]
  },
  {
   "cell_type": "code",
   "execution_count": 20,
   "metadata": {},
   "outputs": [
    {
     "name": "stdout",
     "output_type": "stream",
     "text": [
      "      Column Name  Missing Values  Percentage Missing\n",
      "7   reply_content             299               100.0\n",
      "8      replied_at             299               100.0\n",
      "12      sentiment             299               100.0\n"
     ]
    }
   ],
   "source": [
    "# checking for missing values\n",
    "missing_data_df_reveiws = check_missing_data(df_reviews)\n",
    "print(missing_data_df_reveiws)"
   ]
  },
  {
   "cell_type": "markdown",
   "metadata": {},
   "source": [
    "#### Data Preprocessing"
   ]
  },
  {
   "cell_type": "code",
   "execution_count": 21,
   "metadata": {},
   "outputs": [],
   "source": [
    "# Preprocess the review text\n",
    "stop = set(stopwords.words('english'))\n",
    "lemma = WordNetLemmatizer()\n",
    "df_reviews['cleaned_text'] = df_reviews['user_comments'].apply(lambda x: ' '.join([lemma.lemmatize(word) for word in str(x).lower().split() if word not in stop]))"
   ]
  },
  {
   "cell_type": "markdown",
   "metadata": {},
   "source": [
    "#### Perform sentiment analysis"
   ]
  },
  {
   "cell_type": "code",
   "execution_count": 22,
   "metadata": {},
   "outputs": [],
   "source": [
    "def categorize_sentiment(polarity):\n",
    "    if polarity > 0:\n",
    "        return 'positive'\n",
    "    elif polarity < 0:\n",
    "        return 'negative'\n",
    "    else:\n",
    "        return 'neutral'\n",
    "\n",
    "df_reviews['sentiment_score'] = df_reviews['user_comments'].apply(lambda x: TextBlob(str(x)).sentiment.polarity)\n",
    "df_reviews['sentiment'] = df_reviews['sentiment_score'].apply(categorize_sentiment)"
   ]
  },
  {
   "cell_type": "code",
   "execution_count": 23,
   "metadata": {},
   "outputs": [
    {
     "data": {
      "text/html": [
       "<div>\n",
       "<style scoped>\n",
       "    .dataframe tbody tr th:only-of-type {\n",
       "        vertical-align: middle;\n",
       "    }\n",
       "\n",
       "    .dataframe tbody tr th {\n",
       "        vertical-align: top;\n",
       "    }\n",
       "\n",
       "    .dataframe thead th {\n",
       "        text-align: right;\n",
       "    }\n",
       "</style>\n",
       "<table border=\"1\" class=\"dataframe\">\n",
       "  <thead>\n",
       "    <tr style=\"text-align: right;\">\n",
       "      <th></th>\n",
       "      <th>id</th>\n",
       "      <th>review_id</th>\n",
       "      <th>username</th>\n",
       "      <th>user_image</th>\n",
       "      <th>likes</th>\n",
       "      <th>review_created_version</th>\n",
       "      <th>created_at</th>\n",
       "      <th>reply_content</th>\n",
       "      <th>replied_at</th>\n",
       "      <th>app_version</th>\n",
       "      <th>score</th>\n",
       "      <th>user_comments</th>\n",
       "      <th>sentiment</th>\n",
       "      <th>cleaned_text</th>\n",
       "      <th>sentiment_score</th>\n",
       "    </tr>\n",
       "  </thead>\n",
       "  <tbody>\n",
       "    <tr>\n",
       "      <th>1</th>\n",
       "      <td>2</td>\n",
       "      <td>e20abe49-8fe7-42fe-af3a-91399875b21a</td>\n",
       "      <td>Abbatu Ermias</td>\n",
       "      <td>https://play-lh.googleusercontent.com/a/ACg8oc...</td>\n",
       "      <td>0</td>\n",
       "      <td>24.04.23</td>\n",
       "      <td>2024-05-21 05:06:00</td>\n",
       "      <td>None</td>\n",
       "      <td>None</td>\n",
       "      <td>24.04.23</td>\n",
       "      <td>5</td>\n",
       "      <td>Awe ሃረፍ nawe</td>\n",
       "      <td>neutral</td>\n",
       "      <td>awe ሃረፍ nawe</td>\n",
       "      <td>0.000000</td>\n",
       "    </tr>\n",
       "    <tr>\n",
       "      <th>2</th>\n",
       "      <td>3</td>\n",
       "      <td>55c833c8-a942-47bb-aaaa-e022f39e28af</td>\n",
       "      <td>Habtsh Darge</td>\n",
       "      <td>https://play-lh.googleusercontent.com/a/ACg8oc...</td>\n",
       "      <td>0</td>\n",
       "      <td>24.04.23</td>\n",
       "      <td>2024-05-20 08:07:00</td>\n",
       "      <td>None</td>\n",
       "      <td>None</td>\n",
       "      <td>24.04.23</td>\n",
       "      <td>1</td>\n",
       "      <td>በጣም ቀፋፊ አፕ ነው ። ሰርቶ አያውቅም ። በጣም ብዙ ችግር አለበት ከአ...</td>\n",
       "      <td>neutral</td>\n",
       "      <td>በጣም ቀፋፊ አፕ ነው ። ሰርቶ አያውቅም ። በጣም ብዙ ችግር አለበት ከአ...</td>\n",
       "      <td>0.000000</td>\n",
       "    </tr>\n",
       "    <tr>\n",
       "      <th>3</th>\n",
       "      <td>4</td>\n",
       "      <td>d62d6d95-2900-4038-aa26-c9b42835c971</td>\n",
       "      <td>Usman</td>\n",
       "      <td>https://play-lh.googleusercontent.com/a/ACg8oc...</td>\n",
       "      <td>0</td>\n",
       "      <td>24.04.23</td>\n",
       "      <td>2024-05-19 16:27:00</td>\n",
       "      <td>None</td>\n",
       "      <td>None</td>\n",
       "      <td>24.04.23</td>\n",
       "      <td>1</td>\n",
       "      <td>This application is very bad . Please modify t...</td>\n",
       "      <td>negative</td>\n",
       "      <td>application bad . please modify like cbe birri...</td>\n",
       "      <td>-0.910000</td>\n",
       "    </tr>\n",
       "    <tr>\n",
       "      <th>4</th>\n",
       "      <td>5</td>\n",
       "      <td>20c4de51-f5cd-41f3-b21a-efdf8cb4463e</td>\n",
       "      <td>Eskender Million</td>\n",
       "      <td>https://play-lh.googleusercontent.com/a-/ALV-U...</td>\n",
       "      <td>1</td>\n",
       "      <td>24.04.23</td>\n",
       "      <td>2024-05-17 20:37:00</td>\n",
       "      <td>None</td>\n",
       "      <td>None</td>\n",
       "      <td>24.04.23</td>\n",
       "      <td>1</td>\n",
       "      <td>It has a very complex, inconvenient to use, an...</td>\n",
       "      <td>negative</td>\n",
       "      <td>complex, inconvenient use, heavy step, underst...</td>\n",
       "      <td>-0.228958</td>\n",
       "    </tr>\n",
       "    <tr>\n",
       "      <th>5</th>\n",
       "      <td>6</td>\n",
       "      <td>f7b29ba8-e90e-4dd6-bf6e-f1480b119456</td>\n",
       "      <td>Leta Teshome</td>\n",
       "      <td>https://play-lh.googleusercontent.com/a-/ALV-U...</td>\n",
       "      <td>2</td>\n",
       "      <td>24.04.23</td>\n",
       "      <td>2024-05-17 00:40:00</td>\n",
       "      <td>None</td>\n",
       "      <td>None</td>\n",
       "      <td>24.04.23</td>\n",
       "      <td>1</td>\n",
       "      <td>Never try Apollo. To be honest, this app will ...</td>\n",
       "      <td>positive</td>\n",
       "      <td>never try apollo. honest, app let down. pictur...</td>\n",
       "      <td>0.036111</td>\n",
       "    </tr>\n",
       "  </tbody>\n",
       "</table>\n",
       "</div>"
      ],
      "text/plain": [
       "   id                             review_id          username  \\\n",
       "1   2  e20abe49-8fe7-42fe-af3a-91399875b21a     Abbatu Ermias   \n",
       "2   3  55c833c8-a942-47bb-aaaa-e022f39e28af      Habtsh Darge   \n",
       "3   4  d62d6d95-2900-4038-aa26-c9b42835c971             Usman   \n",
       "4   5  20c4de51-f5cd-41f3-b21a-efdf8cb4463e  Eskender Million   \n",
       "5   6  f7b29ba8-e90e-4dd6-bf6e-f1480b119456      Leta Teshome   \n",
       "\n",
       "                                          user_image  likes  \\\n",
       "1  https://play-lh.googleusercontent.com/a/ACg8oc...      0   \n",
       "2  https://play-lh.googleusercontent.com/a/ACg8oc...      0   \n",
       "3  https://play-lh.googleusercontent.com/a/ACg8oc...      0   \n",
       "4  https://play-lh.googleusercontent.com/a-/ALV-U...      1   \n",
       "5  https://play-lh.googleusercontent.com/a-/ALV-U...      2   \n",
       "\n",
       "  review_created_version          created_at reply_content replied_at  \\\n",
       "1               24.04.23 2024-05-21 05:06:00          None       None   \n",
       "2               24.04.23 2024-05-20 08:07:00          None       None   \n",
       "3               24.04.23 2024-05-19 16:27:00          None       None   \n",
       "4               24.04.23 2024-05-17 20:37:00          None       None   \n",
       "5               24.04.23 2024-05-17 00:40:00          None       None   \n",
       "\n",
       "  app_version  score                                      user_comments  \\\n",
       "1    24.04.23      5                                       Awe ሃረፍ nawe   \n",
       "2    24.04.23      1  በጣም ቀፋፊ አፕ ነው ። ሰርቶ አያውቅም ። በጣም ብዙ ችግር አለበት ከአ...   \n",
       "3    24.04.23      1  This application is very bad . Please modify t...   \n",
       "4    24.04.23      1  It has a very complex, inconvenient to use, an...   \n",
       "5    24.04.23      1  Never try Apollo. To be honest, this app will ...   \n",
       "\n",
       "  sentiment                                       cleaned_text  \\\n",
       "1   neutral                                       awe ሃረፍ nawe   \n",
       "2   neutral  በጣም ቀፋፊ አፕ ነው ። ሰርቶ አያውቅም ። በጣም ብዙ ችግር አለበት ከአ...   \n",
       "3  negative  application bad . please modify like cbe birri...   \n",
       "4  negative  complex, inconvenient use, heavy step, underst...   \n",
       "5  positive  never try apollo. honest, app let down. pictur...   \n",
       "\n",
       "   sentiment_score  \n",
       "1         0.000000  \n",
       "2         0.000000  \n",
       "3        -0.910000  \n",
       "4        -0.228958  \n",
       "5         0.036111  "
      ]
     },
     "execution_count": 23,
     "metadata": {},
     "output_type": "execute_result"
    }
   ],
   "source": [
    "df_reviews.head()"
   ]
  },
  {
   "cell_type": "code",
   "execution_count": 26,
   "metadata": {},
   "outputs": [
    {
     "name": "stdout",
     "output_type": "stream",
     "text": [
      "Connecting..\n",
      "All good, Connection successful!\n"
     ]
    }
   ],
   "source": [
    "#opening the connection\n",
    "conn = connect()\n",
    "cur = conn.cursor()\n",
    "\n",
    "# Update sentiment column for each row in the DataFrame\n",
    "for index, row in df_reviews.iterrows():\n",
    "    update_query = sql.SQL(\"\"\"\n",
    "    UPDATE public.google_play_reviews\n",
    "    SET sentiment = %s\n",
    "    WHERE review_id = %s\n",
    "    \"\"\")\n",
    "    cur.execute(update_query, (row['sentiment'], row['review_id']))\n",
    "\n",
    "conn.commit()\n",
    "\n",
    "\n",
    "#closing the connection\n",
    "conn.close()"
   ]
  }
 ],
 "metadata": {
  "kernelspec": {
   "display_name": "venv",
   "language": "python",
   "name": "python3"
  },
  "language_info": {
   "codemirror_mode": {
    "name": "ipython",
    "version": 3
   },
   "file_extension": ".py",
   "mimetype": "text/x-python",
   "name": "python",
   "nbconvert_exporter": "python",
   "pygments_lexer": "ipython3",
   "version": "3.12.3"
  }
 },
 "nbformat": 4,
 "nbformat_minor": 2
}
